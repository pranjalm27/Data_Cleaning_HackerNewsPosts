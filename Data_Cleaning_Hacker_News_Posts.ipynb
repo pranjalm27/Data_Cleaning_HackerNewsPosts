{
  "nbformat": 4,
  "nbformat_minor": 0,
  "metadata": {
    "colab": {
      "provenance": [],
      "authorship_tag": "ABX9TyO6Y2fxnub+KOJSPeFhZTK/"
    },
    "kernelspec": {
      "name": "python3",
      "display_name": "Python 3"
    },
    "language_info": {
      "name": "python"
    }
  },
  "cells": [
    {
      "cell_type": "markdown",
      "source": [
        "# **Hacker News Posts - Data Cleaning**\n",
        "**bold text**\n"
      ],
      "metadata": {
        "id": "x36bJkzwkayl"
      }
    },
    {
      "cell_type": "markdown",
      "source": [
        "In this project, we're diving into a dataset of submissions made to the renowned tech website, Hacker News.\n",
        "\n",
        "Hacker News, founded by the startup incubator Y Combinator, operates much like Reddit. Users submit stories, called \"posts,\" which can garner votes and comments. The site enjoys significant popularity in tech and startup spheres. Stories that climb to the top of the Hacker News rankings can draw in immense traffic, sometimes reaching hundreds of thousands of views.\n",
        "\n",
        "This is one of the guided project from dataquest, and the data for the same can be downloaded from [here](https://dq-content.s3.amazonaws.com/356/hacker_news.csv).\n",
        "\n",
        "\n",
        "Skills I learnt from this project -\n",
        "1.   How to work with strings\n",
        "2.   Object-oriented programming\n",
        "3.   Dates and times\n",
        "\n",
        "\n",
        "\n",
        "\n",
        "\n",
        "\n"
      ],
      "metadata": {
        "id": "tmQjv9Rsjc5L"
      }
    },
    {
      "cell_type": "markdown",
      "source": [
        "Below are descriptions of the columns:\n",
        "\n",
        "1. id: the unique identifier from Hacker News for the post\n",
        "2. title: the title of the post\n",
        "3. url: the URL that the posts links to, if the post has a URL\n",
        "4. num_points: the number of points the post acquired, calculated as 5. 5. the total number of upvotes minus the total number of downvotes\n",
        "6. num_comments: the number of comments on the post\n",
        "7. author: the username of the person who submitted the post\n",
        "8. created_at: the date and time of the post's submission"
      ],
      "metadata": {
        "id": "n_Oveh29lQlB"
      }
    },
    {
      "cell_type": "markdown",
      "source": [
        "## Importing necessary libraries"
      ],
      "metadata": {
        "id": "nvIDE-cYl-zj"
      }
    },
    {
      "cell_type": "code",
      "source": [
        "import pandas as pd\n",
        "import numpy as np\n",
        "import csv\n",
        "import datetime as dt"
      ],
      "metadata": {
        "id": "14M0YUUgmC-u"
      },
      "execution_count": 5,
      "outputs": []
    },
    {
      "cell_type": "markdown",
      "source": [
        "We're specifically interested in posts with titles that begin with either **Ask HN** or **Show HN**.\n",
        "\n",
        "Users submit Ask HN posts to ask the Hacker News community a specific question. Below are a few examples:\n",
        "\n",
        "> Ask HN: How to improve my personal website?\n",
        "\n",
        "> Ask HN: Am I the only one outraged by Twitter shutting down share counts?\n",
        "\n",
        "> Ask HN: Aby recent changes to CSS that broke mobile?\n",
        "\n",
        "\n",
        "Likewise, users submit Show HN posts to show the Hacker News community a project, product, or just something interesting. Below are a few examples:\n",
        "\n",
        "\n",
        "> Show HN: Wio Link  ESP8266 Based Web of Things Hardware Development Platform\n",
        "\n",
        "> Show HN: Something pointless I made\n",
        "\n",
        "> Show HN: Shanhu.io, a programming playground powered by e8vm\n",
        "\n",
        "\n",
        "We'll compare these two types of posts to determine the following:\n",
        "\n",
        "Do Ask HN or Show HN receive more comments on average?\n",
        "Do posts created at a certain time receive more comments on average?\n",
        "Let's start by importing the libraries we need and reading the dataset into a list of lists."
      ],
      "metadata": {
        "id": "QUjy3sIQnqTl"
      }
    },
    {
      "cell_type": "markdown",
      "source": [
        "## Load Dataset"
      ],
      "metadata": {
        "id": "1qa6bQ-plj0z"
      }
    },
    {
      "cell_type": "code",
      "source": [
        "# first we specify the path to the data we downloaded\n",
        "# I am using Colab hence my path will be set via teh folder I uploaded my dataset to\n",
        "file_path = '/content/sample_data/hacker_news.csv'\n",
        "\n",
        "# Next we Load the dataset\n",
        "df = pd.read_csv(file_path)\n",
        "\n",
        "# Display the first few rows of the dataframe\n",
        "print(df.head())"
      ],
      "metadata": {
        "colab": {
          "base_uri": "https://localhost:8080/"
        },
        "id": "TStkSbtllkvN",
        "outputId": "f8f09ea9-98dd-4be5-c0dc-4422ebd90508"
      },
      "execution_count": 6,
      "outputs": [
        {
          "output_type": "stream",
          "name": "stdout",
          "text": [
            "         id                                              title  \\\n",
            "0  12224879                          Interactive Dynamic Video   \n",
            "1  10975351  How to Use Open Source and Shut the Fuck Up at...   \n",
            "2  11964716  Florida DJs May Face Felony for April Fools' W...   \n",
            "3  11919867       Technology ventures: From Idea to Enterprise   \n",
            "4  10301696  Note by Note: The Making of Steinway L1037 (2007)   \n",
            "\n",
            "                                                 url  num_points  \\\n",
            "0            http://www.interactivedynamicvideo.com/         386   \n",
            "1  http://hueniverse.com/2016/01/26/how-to-use-op...          39   \n",
            "2  http://www.thewire.com/entertainment/2013/04/f...           2   \n",
            "3  https://www.amazon.com/Technology-Ventures-Ent...           3   \n",
            "4  http://www.nytimes.com/2007/11/07/movies/07ste...           8   \n",
            "\n",
            "   num_comments      author       created_at  \n",
            "0          52.0    ne0phyte   8/4/2016 11:52  \n",
            "1          10.0      josep2  1/26/2016 19:30  \n",
            "2           1.0    vezycash  6/23/2016 22:20  \n",
            "3           1.0     hswarna   6/17/2016 0:01  \n",
            "4           2.0  walterbell   9/30/2015 4:12  \n"
          ]
        }
      ]
    },
    {
      "cell_type": "code",
      "source": [
        "#Read the hacker_news.csv file in as a list of lists\n",
        "\n",
        "# Initialize an empty list to hold the data\n",
        "data = []\n",
        "\n",
        "# Open the CSV file\n",
        "with open(file_path, mode='r', encoding='utf-8') as file:\n",
        "    # Create a CSV reader object\n",
        "    csv_reader = csv.reader(file)\n",
        "\n",
        "    # Iterate over the rows in the CSV reader\n",
        "    for row in csv_reader:\n",
        "        # Append each row to the data list\n",
        "        data.append(row)\n",
        "\n",
        "# Print the first few rows to verify\n",
        "for row in data[:5]:\n",
        "    print(row)"
      ],
      "metadata": {
        "colab": {
          "base_uri": "https://localhost:8080/"
        },
        "id": "niUp2ybhqTtl",
        "outputId": "acc1627f-6aaa-40dc-bea1-45068b1570f1"
      },
      "execution_count": 7,
      "outputs": [
        {
          "output_type": "stream",
          "name": "stdout",
          "text": [
            "['id', 'title', 'url', 'num_points', 'num_comments', 'author', 'created_at']\n",
            "['12224879', 'Interactive Dynamic Video', 'http://www.interactivedynamicvideo.com/', '386', '52', 'ne0phyte', '8/4/2016 11:52']\n",
            "['10975351', 'How to Use Open Source and Shut the Fuck Up at the Same Time', 'http://hueniverse.com/2016/01/26/how-to-use-open-source-and-shut-the-fuck-up-at-the-same-time/', '39', '10', 'josep2', '1/26/2016 19:30']\n",
            "['11964716', \"Florida DJs May Face Felony for April Fools' Water Joke\", 'http://www.thewire.com/entertainment/2013/04/florida-djs-april-fools-water-joke/63798/', '2', '1', 'vezycash', '6/23/2016 22:20']\n",
            "['11919867', 'Technology ventures: From Idea to Enterprise', 'https://www.amazon.com/Technology-Ventures-Enterprise-Thomas-Byers/dp/0073523429', '3', '1', 'hswarna', '6/17/2016 0:01']\n"
          ]
        }
      ]
    },
    {
      "cell_type": "code",
      "source": [
        "#storing data in hn\n",
        "hn = data\n",
        "print(hn[:5])"
      ],
      "metadata": {
        "colab": {
          "base_uri": "https://localhost:8080/"
        },
        "id": "FOH89TjytUnu",
        "outputId": "dd3c8951-8fe4-49a7-a35b-1fff194bd30c"
      },
      "execution_count": 8,
      "outputs": [
        {
          "output_type": "stream",
          "name": "stdout",
          "text": [
            "[['id', 'title', 'url', 'num_points', 'num_comments', 'author', 'created_at'], ['12224879', 'Interactive Dynamic Video', 'http://www.interactivedynamicvideo.com/', '386', '52', 'ne0phyte', '8/4/2016 11:52'], ['10975351', 'How to Use Open Source and Shut the Fuck Up at the Same Time', 'http://hueniverse.com/2016/01/26/how-to-use-open-source-and-shut-the-fuck-up-at-the-same-time/', '39', '10', 'josep2', '1/26/2016 19:30'], ['11964716', \"Florida DJs May Face Felony for April Fools' Water Joke\", 'http://www.thewire.com/entertainment/2013/04/florida-djs-april-fools-water-joke/63798/', '2', '1', 'vezycash', '6/23/2016 22:20'], ['11919867', 'Technology ventures: From Idea to Enterprise', 'https://www.amazon.com/Technology-Ventures-Enterprise-Thomas-Byers/dp/0073523429', '3', '1', 'hswarna', '6/17/2016 0:01']]\n"
          ]
        }
      ]
    },
    {
      "cell_type": "markdown",
      "source": [
        "## Split Data for processing"
      ],
      "metadata": {
        "id": "89xBeSQt5qcQ"
      }
    },
    {
      "cell_type": "markdown",
      "source": [
        "Notice that the first list in the inner lists contains the column headers, and the lists after contain the data for one row. In order to analyze our data, we need to first remove the row containing the column headers. Let's remove that first row next."
      ],
      "metadata": {
        "id": "l3_H1RT7oyQY"
      }
    },
    {
      "cell_type": "code",
      "execution_count": 9,
      "metadata": {
        "colab": {
          "base_uri": "https://localhost:8080/"
        },
        "id": "txw8tjp1jSKi",
        "outputId": "35cb19ee-deba-45e8-cb05-486bf8a17f74"
      },
      "outputs": [
        {
          "output_type": "stream",
          "name": "stdout",
          "text": [
            "Headers:\n",
            "['id', 'title', 'url', 'num_points', 'num_comments', 'author', 'created_at']\n",
            "\n",
            "First five rows of hn:\n",
            "['12224879', 'Interactive Dynamic Video', 'http://www.interactivedynamicvideo.com/', '386', '52', 'ne0phyte', '8/4/2016 11:52']\n",
            "['10975351', 'How to Use Open Source and Shut the Fuck Up at the Same Time', 'http://hueniverse.com/2016/01/26/how-to-use-open-source-and-shut-the-fuck-up-at-the-same-time/', '39', '10', 'josep2', '1/26/2016 19:30']\n",
            "['11964716', \"Florida DJs May Face Felony for April Fools' Water Joke\", 'http://www.thewire.com/entertainment/2013/04/florida-djs-april-fools-water-joke/63798/', '2', '1', 'vezycash', '6/23/2016 22:20']\n",
            "['11919867', 'Technology ventures: From Idea to Enterprise', 'https://www.amazon.com/Technology-Ventures-Enterprise-Thomas-Byers/dp/0073523429', '3', '1', 'hswarna', '6/17/2016 0:01']\n",
            "['10301696', 'Note by Note: The Making of Steinway L1037 (2007)', 'http://www.nytimes.com/2007/11/07/movies/07stein.html?_r=0', '8', '2', 'walterbell', '9/30/2015 4:12']\n"
          ]
        }
      ],
      "source": [
        "# Extract the first row as headers\n",
        "headers = data[0]\n",
        "\n",
        "# Remove the first row from the data\n",
        "hn = data[1:]\n",
        "\n",
        "# Display the headers\n",
        "print(\"Headers:\")\n",
        "print(headers)\n",
        "\n",
        "# Display the first five rows of the dataset to verify\n",
        "print(\"\\nFirst five rows of hn:\")\n",
        "for row in hn[:5]:\n",
        "    print(row)"
      ]
    },
    {
      "cell_type": "markdown",
      "source": [
        "## Filtering data"
      ],
      "metadata": {
        "id": "BlI4-6AS5wLW"
      }
    },
    {
      "cell_type": "markdown",
      "source": [
        "Now that we've removed the headers from hn, we're ready to filter our data. Since we're only concerned with post titles beginning with Ask HN or Show HN, we'll create new lists of lists containing just the data for those titles.\n",
        "\n",
        "To find the posts that begin with either Ask HN or Show HN, we'll use the string method startswith. Given a string object, say, string1, we can check if starts with, say, dq by inspecting the output of the object string1.startswith('dq'). If string1 starts with dq, it will return True; otherwise, it will return False."
      ],
      "metadata": {
        "id": "QoK65m3bu84l"
      }
    },
    {
      "cell_type": "code",
      "source": [
        "# We create three empty lists\n",
        "ask_posts =[]\n",
        "show_posts =[]\n",
        "other_posts =[]\n",
        "\n",
        "#Assign the title in each row to a variable named title\n",
        "for row in hn:\n",
        "  title = row[1].lower()\n",
        "  if title.startswith('ask hn'):\n",
        "        ask_posts.append(row)\n",
        "  elif title.startswith('show hn'):\n",
        "        show_posts.append(row)\n",
        "  else:\n",
        "        other_posts.append(row)\n",
        "\n",
        "# Check the number of posts in each list\n",
        "print(\"Number of ask posts:\", len(ask_posts))\n",
        "print(\"Number of show posts:\", len(show_posts))\n",
        "print(\"Number of other posts:\", len(other_posts))"
      ],
      "metadata": {
        "colab": {
          "base_uri": "https://localhost:8080/"
        },
        "id": "_E6Px8k8u8Vl",
        "outputId": "0649d74d-c79f-476c-e9a4-cf7d93929554"
      },
      "execution_count": 10,
      "outputs": [
        {
          "output_type": "stream",
          "name": "stdout",
          "text": [
            "Number of ask posts: 1192\n",
            "Number of show posts: 785\n",
            "Number of other posts: 11577\n"
          ]
        }
      ]
    },
    {
      "cell_type": "code",
      "source": [
        "# Print the first five rows\n",
        "for row in show_posts[:5]:\n",
        "    print(row)\n",
        "\n",
        "\n",
        "for row in ask_posts[:5]:\n",
        "    print(row)\n"
      ],
      "metadata": {
        "colab": {
          "base_uri": "https://localhost:8080/"
        },
        "id": "MPCQ5gr31xBq",
        "outputId": "575b9d49-3ba7-43de-ec12-94574d5e86e9"
      },
      "execution_count": 11,
      "outputs": [
        {
          "output_type": "stream",
          "name": "stdout",
          "text": [
            "['10627194', 'Show HN: Wio Link  ESP8266 Based Web of Things Hardware Development Platform', 'https://iot.seeed.cc', '26', '22', 'kfihihc', '11/25/2015 14:03']\n",
            "['10646440', 'Show HN: Something pointless I made', 'http://dn.ht/picklecat/', '747', '102', 'dhotson', '11/29/2015 22:46']\n",
            "['11590768', 'Show HN: Shanhu.io, a programming playground powered by e8vm', 'https://shanhu.io', '1', '1', 'h8liu', '4/28/2016 18:05']\n",
            "['12178806', 'Show HN: Webscope  Easy way for web developers to communicate with Clients', 'http://webscopeapp.com', '3', '3', 'fastbrick', '7/28/2016 7:11']\n",
            "['10872799', 'Show HN: GeoScreenshot  Easily test Geo-IP based web pages', 'https://www.geoscreenshot.com/', '1', '9', 'kpsychwave', '1/9/2016 20:45']\n",
            "['12296411', 'Ask HN: How to improve my personal website?', '', '2', '6', 'ahmedbaracat', '8/16/2016 9:55']\n",
            "['10610020', 'Ask HN: Am I the only one outraged by Twitter shutting down share counts?', '', '28', '29', 'tkfx', '11/22/2015 13:43']\n",
            "['11610310', 'Ask HN: Aby recent changes to CSS that broke mobile?', '', '1', '1', 'polskibus', '5/2/2016 10:14']\n",
            "['12210105', 'Ask HN: Looking for Employee #3 How do I do it?', '', '1', '3', 'sph130', '8/2/2016 14:20']\n",
            "['10394168', 'Ask HN: Someone offered to buy my browser extension from me. What now?', '', '28', '17', 'roykolak', '10/15/2015 16:38']\n"
          ]
        }
      ]
    },
    {
      "cell_type": "markdown",
      "source": [
        "## Analyzing posts"
      ],
      "metadata": {
        "id": "9vgzYGpD56-i"
      }
    },
    {
      "cell_type": "markdown",
      "source": [
        "Next, let's determine if ask posts or show posts receive more comments on average."
      ],
      "metadata": {
        "id": "9YXcLEDu2o_b"
      }
    },
    {
      "cell_type": "code",
      "source": [
        "# total number of comments in ask posts\n",
        "\n",
        "total_ask_comments = 0\n",
        "for row in ask_posts:\n",
        "  num_comments = (int(row[4]))\n",
        "  total_ask_comments += num_comments"
      ],
      "metadata": {
        "id": "eQxE95bv2pt3"
      },
      "execution_count": 12,
      "outputs": []
    },
    {
      "cell_type": "code",
      "source": [
        "avg_ask_comments = total_ask_comments/len(ask_posts)\n",
        "avg_ask_comments"
      ],
      "metadata": {
        "colab": {
          "base_uri": "https://localhost:8080/"
        },
        "id": "16jcFFsA4fyD",
        "outputId": "44245961-b423-4c9d-a633-bf2ae5dabb06"
      },
      "execution_count": 13,
      "outputs": [
        {
          "output_type": "execute_result",
          "data": {
            "text/plain": [
              "14.819630872483222"
            ]
          },
          "metadata": {},
          "execution_count": 13
        }
      ]
    },
    {
      "cell_type": "code",
      "source": [
        "# total number of comments in show posts\n",
        "\n",
        "total_show_comments = 0\n",
        "for row in show_posts:\n",
        "  num_comments = int(row[4])\n",
        "  total_show_comments += num_comments"
      ],
      "metadata": {
        "id": "P-f_fEdX4oc7"
      },
      "execution_count": 14,
      "outputs": []
    },
    {
      "cell_type": "code",
      "source": [
        "avg_show_comments = total_show_comments/ len(show_posts)\n",
        "avg_show_comments"
      ],
      "metadata": {
        "colab": {
          "base_uri": "https://localhost:8080/"
        },
        "id": "23k7VOys5cly",
        "outputId": "b250c4f0-296b-4292-f026-714029a7f1f6"
      },
      "execution_count": 15,
      "outputs": [
        {
          "output_type": "execute_result",
          "data": {
            "text/plain": [
              "9.750318471337579"
            ]
          },
          "metadata": {},
          "execution_count": 15
        }
      ]
    },
    {
      "cell_type": "markdown",
      "source": [
        "## Findings"
      ],
      "metadata": {
        "id": "vLx4_XaW5krB"
      }
    },
    {
      "cell_type": "code",
      "source": [
        "# Comparison\n",
        "if avg_ask_comments > avg_show_comments:\n",
        "    print(\"Ask posts receive more comments on average.\")\n",
        "elif avg_ask_comments < avg_show_comments:\n",
        "    print(\"Show posts receive more comments on average.\")\n",
        "else:\n",
        "    print(\"Both ask and show posts receive the same average number of comments.\")"
      ],
      "metadata": {
        "colab": {
          "base_uri": "https://localhost:8080/"
        },
        "id": "A7ff3mIB6Fvj",
        "outputId": "a26581d6-149c-4043-feca-236d4dc474bc"
      },
      "execution_count": 16,
      "outputs": [
        {
          "output_type": "stream",
          "name": "stdout",
          "text": [
            "Ask posts receive more comments on average.\n"
          ]
        }
      ]
    },
    {
      "cell_type": "markdown",
      "source": [
        "Hence we can see that ask posts receive more comments on average than show posts."
      ],
      "metadata": {
        "id": "5cbShkZv6NPr"
      }
    },
    {
      "cell_type": "markdown",
      "source": [
        "## Ask posts Analysis"
      ],
      "metadata": {
        "id": "5R1U-UVDE7g5"
      }
    },
    {
      "cell_type": "markdown",
      "source": [
        "Since ask posts are more likely to receive comments, we'll focus our remaining analysis just on these posts."
      ],
      "metadata": {
        "id": "4q_Ny2FG6jPO"
      }
    },
    {
      "cell_type": "markdown",
      "source": [
        "Next, we'll determine if ask posts created at a certain time are more likely to attract comments. We'll use the following steps to perform this analysis:\n",
        "\n",
        "1. Calculate the number of ask posts created in each hour of the day, along with the number of comments received.\n",
        "2. Calculate the average number of comments ask posts receive by hour created.\n",
        "\n",
        "\n"
      ],
      "metadata": {
        "id": "bEWGwmwy6sW-"
      }
    },
    {
      "cell_type": "markdown",
      "source": [
        "**To calculate the number of ask posts and comments by hour created.**\n",
        "We'll use the datetime module to work with the data in the created_at column."
      ],
      "metadata": {
        "id": "PSsQ7dyQ7xEs"
      }
    },
    {
      "cell_type": "code",
      "source": [
        "result_list = []\n",
        "\n",
        "for row in ask_posts:\n",
        "    created_at = row[6]\n",
        "    num_comments = int(row[4])\n",
        "    result_list.append([created_at, num_comments])\n"
      ],
      "metadata": {
        "id": "l-_8gAFW6kjo"
      },
      "execution_count": 17,
      "outputs": []
    },
    {
      "cell_type": "code",
      "source": [
        "counts_by_hour = {}\n",
        "comments_by_hour = {}\n",
        "\n",
        "# counts_by_hour: contains the number of ask posts created during each hour of the day.\n",
        "# comments_by_hour: contains the corresponding number of comments ask posts created at each hour received.\n",
        "\n",
        "for row in result_list:\n",
        "    created_at = dt.datetime.strptime(row[0], \"%m/%d/%Y %H:%M\")\n",
        "    hour = created_at.strftime(\"%H\")\n",
        "\n",
        "    if hour not in counts_by_hour:\n",
        "        counts_by_hour[hour] = 1\n",
        "        comments_by_hour[hour] = row[1]\n",
        "    else:\n",
        "        counts_by_hour[hour] += 1\n",
        "        comments_by_hour[hour] += row[1]\n"
      ],
      "metadata": {
        "id": "oM0ts_kOL9xN"
      },
      "execution_count": 18,
      "outputs": []
    },
    {
      "cell_type": "markdown",
      "source": [
        "Next, we'll use these two dictionaries **to calculate the average number of comments for posts created during each hour of the day**."
      ],
      "metadata": {
        "id": "vIBMMR69NLB5"
      }
    },
    {
      "cell_type": "code",
      "source": [
        "avg_by_hour = []\n",
        "\n",
        "for avg in comments_by_hour:\n",
        "  avg_by_hour.append([avg, comments_by_hour[avg]/counts_by_hour[avg]])"
      ],
      "metadata": {
        "id": "TcH29y54NKbX"
      },
      "execution_count": 19,
      "outputs": []
    },
    {
      "cell_type": "code",
      "source": [
        "avg_by_hour"
      ],
      "metadata": {
        "colab": {
          "base_uri": "https://localhost:8080/"
        },
        "id": "HRAu91AyPtQf",
        "outputId": "24301aaa-28ca-431b-cd3a-002af7b2b437"
      },
      "execution_count": 20,
      "outputs": [
        {
          "output_type": "execute_result",
          "data": {
            "text/plain": [
              "[['09', 6.5],\n",
              " ['13', 12.50909090909091],\n",
              " ['10', 17.225],\n",
              " ['14', 13.246753246753247],\n",
              " ['16', 18.226666666666667],\n",
              " ['23', 8.075],\n",
              " ['12', 9.745098039215685],\n",
              " ['17', 13.402777777777779],\n",
              " ['15', 43.1025641025641],\n",
              " ['21', 15.933333333333334],\n",
              " ['20', 29.942307692307693],\n",
              " ['02', 10.130434782608695],\n",
              " ['18', 12.77027027027027],\n",
              " ['03', 9.31578947368421],\n",
              " ['05', 11.037037037037036],\n",
              " ['19', 13.52],\n",
              " ['01', 11.333333333333334],\n",
              " ['22', 6.672727272727273],\n",
              " ['08', 12.82857142857143],\n",
              " ['04', 7.722222222222222],\n",
              " ['00', 7.914285714285715],\n",
              " ['06', 8.225806451612904],\n",
              " ['07', 7.541666666666667],\n",
              " ['11', 13.512195121951219]]"
            ]
          },
          "metadata": {},
          "execution_count": 20
        }
      ]
    },
    {
      "cell_type": "markdown",
      "source": [
        "We now have the results we need, but this format makes it difficult to identify the hours with the highest values. Let's finish by sorting the list of lists and printing the five highest values in a format that's easier to read."
      ],
      "metadata": {
        "id": "Z0A4YNrMP_D1"
      }
    },
    {
      "cell_type": "code",
      "source": [
        "swap_avg_by_hour = []\n",
        "\n",
        "for swap in avg_by_hour:\n",
        "  swap_avg_by_hour.append([swap[1], swap[0]])"
      ],
      "metadata": {
        "id": "tcNp9_veQBzy"
      },
      "execution_count": 21,
      "outputs": []
    },
    {
      "cell_type": "code",
      "source": [
        "swap_avg_by_hour"
      ],
      "metadata": {
        "colab": {
          "base_uri": "https://localhost:8080/"
        },
        "id": "rCfgAbVrQTEf",
        "outputId": "40d6ff63-f735-4f37-fd3a-4c58cbe85c77"
      },
      "execution_count": 22,
      "outputs": [
        {
          "output_type": "execute_result",
          "data": {
            "text/plain": [
              "[[6.5, '09'],\n",
              " [12.50909090909091, '13'],\n",
              " [17.225, '10'],\n",
              " [13.246753246753247, '14'],\n",
              " [18.226666666666667, '16'],\n",
              " [8.075, '23'],\n",
              " [9.745098039215685, '12'],\n",
              " [13.402777777777779, '17'],\n",
              " [43.1025641025641, '15'],\n",
              " [15.933333333333334, '21'],\n",
              " [29.942307692307693, '20'],\n",
              " [10.130434782608695, '02'],\n",
              " [12.77027027027027, '18'],\n",
              " [9.31578947368421, '03'],\n",
              " [11.037037037037036, '05'],\n",
              " [13.52, '19'],\n",
              " [11.333333333333334, '01'],\n",
              " [6.672727272727273, '22'],\n",
              " [12.82857142857143, '08'],\n",
              " [7.722222222222222, '04'],\n",
              " [7.914285714285715, '00'],\n",
              " [8.225806451612904, '06'],\n",
              " [7.541666666666667, '07'],\n",
              " [13.512195121951219, '11']]"
            ]
          },
          "metadata": {},
          "execution_count": 22
        }
      ]
    },
    {
      "cell_type": "code",
      "source": [
        "sorted_swap= sorted(swap_avg_by_hour, reverse = True)\n",
        "print(sorted_swap)"
      ],
      "metadata": {
        "colab": {
          "base_uri": "https://localhost:8080/"
        },
        "id": "Tk4youQLQZ3W",
        "outputId": "26743586-8fab-432f-f6e5-1266da0c9b4d"
      },
      "execution_count": 23,
      "outputs": [
        {
          "output_type": "stream",
          "name": "stdout",
          "text": [
            "[[43.1025641025641, '15'], [29.942307692307693, '20'], [18.226666666666667, '16'], [17.225, '10'], [15.933333333333334, '21'], [13.52, '19'], [13.512195121951219, '11'], [13.402777777777779, '17'], [13.246753246753247, '14'], [12.82857142857143, '08'], [12.77027027027027, '18'], [12.50909090909091, '13'], [11.333333333333334, '01'], [11.037037037037036, '05'], [10.130434782608695, '02'], [9.745098039215685, '12'], [9.31578947368421, '03'], [8.225806451612904, '06'], [8.075, '23'], [7.914285714285715, '00'], [7.722222222222222, '04'], [7.541666666666667, '07'], [6.672727272727273, '22'], [6.5, '09']]\n"
          ]
        }
      ]
    },
    {
      "cell_type": "markdown",
      "source": [
        "**Top 5 Hours for Ask Posts Comments**"
      ],
      "metadata": {
        "id": "bJ-kAM33QuQV"
      }
    },
    {
      "cell_type": "code",
      "source": [
        "print(sorted_swap[:5])\n"
      ],
      "metadata": {
        "id": "tY0KMfK5Qyvl",
        "colab": {
          "base_uri": "https://localhost:8080/"
        },
        "outputId": "f1f5b92c-f9b0-4f1b-d3e8-7ec8cb94e37e"
      },
      "execution_count": 24,
      "outputs": [
        {
          "output_type": "stream",
          "name": "stdout",
          "text": [
            "[[43.1025641025641, '15'], [29.942307692307693, '20'], [18.226666666666667, '16'], [17.225, '10'], [15.933333333333334, '21']]\n"
          ]
        }
      ]
    },
    {
      "cell_type": "code",
      "source": [
        "for avg, hour in sorted_swap[:5]:\n",
        "    hour_dt = dt.datetime.strptime(hour, \"%H\")\n",
        "    hour_formatted = hour_dt.strftime(\"%H:%M\")\n",
        "    print(\"{}: {:.2f} average comments per post\".format(hour_formatted, avg))"
      ],
      "metadata": {
        "id": "qAhVnMZsRjCH",
        "colab": {
          "base_uri": "https://localhost:8080/"
        },
        "outputId": "de46da55-66ce-4867-82a3-107a5648105a"
      },
      "execution_count": 25,
      "outputs": [
        {
          "output_type": "stream",
          "name": "stdout",
          "text": [
            "15:00: 43.10 average comments per post\n",
            "20:00: 29.94 average comments per post\n",
            "16:00: 18.23 average comments per post\n",
            "10:00: 17.23 average comments per post\n",
            "21:00: 15.93 average comments per post\n"
          ]
        }
      ]
    },
    {
      "cell_type": "markdown",
      "source": [
        "To increase the chances of receiving comments on ask posts, one should consider posting during the hours with the highest average comments per post. According to the analysis, the top five hours for ask posts comments are:\n",
        "\n",
        "15:00 (3:00 PM) - 38.59 average comments per post\n",
        "\n",
        "02:00 (2:00 AM) - 23.81 average comments per post\n",
        "\n",
        "20:00 (8:00 PM) - 21.52 average comments per post\n",
        "\n",
        "16:00 (4:00 PM) - 16.80 average comments per post\n",
        "\n",
        "21:00 (9:00 PM) - 16.01 average comments per post\n",
        "\n",
        "These hours are based on the Eastern Time (ET) time zone. Depending on the time zone you live in, you may need to adjust these hours accordingly."
      ],
      "metadata": {
        "id": "b2d7sjJjSV74"
      }
    },
    {
      "cell_type": "markdown",
      "source": [
        "# Thank You"
      ],
      "metadata": {
        "id": "y_ZqLG-VSoo5"
      }
    },
    {
      "cell_type": "markdown",
      "source": [
        "Here are some next steps for you to consider:\n",
        "\n",
        "Determine if show or ask posts receive more points on average.\n",
        "\n",
        "Determine if posts created at a certain time are more likely to receive more points.\n",
        "\n",
        "Compare your results to the average number of comments and points other posts receive."
      ],
      "metadata": {
        "id": "9ANAKe6XStLx"
      }
    },
    {
      "cell_type": "markdown",
      "source": [
        "**Determine if show or ask posts receive more points on average.**\n"
      ],
      "metadata": {
        "id": "i4v7KlCjxKyi"
      }
    },
    {
      "cell_type": "code",
      "source": [
        "show_num_points = []\n",
        "for row in show_posts:\n",
        "  show_num_points.append(int(row[3]))"
      ],
      "metadata": {
        "id": "ko6WlJ9Tt7Tx"
      },
      "execution_count": 26,
      "outputs": []
    },
    {
      "cell_type": "code",
      "source": [
        "total_show_num_points = 0\n",
        "for points in show_num_points:\n",
        "  total_show_num_points += points"
      ],
      "metadata": {
        "id": "OGHPOj6JwDdc"
      },
      "execution_count": 27,
      "outputs": []
    },
    {
      "cell_type": "code",
      "source": [
        "total_show_num_points"
      ],
      "metadata": {
        "id": "PW2wb4YpwZkt",
        "colab": {
          "base_uri": "https://localhost:8080/"
        },
        "outputId": "2ac2009c-66f9-4c2a-9306-07bcb2aee9a8"
      },
      "execution_count": 28,
      "outputs": [
        {
          "output_type": "execute_result",
          "data": {
            "text/plain": [
              "20035"
            ]
          },
          "metadata": {},
          "execution_count": 28
        }
      ]
    },
    {
      "cell_type": "code",
      "source": [
        "avg_show_points = total_show_num_points/len(show_posts)\n",
        "avg_show_points"
      ],
      "metadata": {
        "id": "C06lo16OvPRS",
        "colab": {
          "base_uri": "https://localhost:8080/"
        },
        "outputId": "8bc1705d-ff3b-4699-cee4-179e1ffc9934"
      },
      "execution_count": 29,
      "outputs": [
        {
          "output_type": "execute_result",
          "data": {
            "text/plain": [
              "25.522292993630572"
            ]
          },
          "metadata": {},
          "execution_count": 29
        }
      ]
    },
    {
      "cell_type": "code",
      "source": [
        "ask_num_points = []\n",
        "for row in ask_posts:\n",
        "  ask_num_points.append(int(row[3]))"
      ],
      "metadata": {
        "id": "W-_AFoRxu6ct"
      },
      "execution_count": 30,
      "outputs": []
    },
    {
      "cell_type": "code",
      "source": [
        "total_ask_num_points = 0\n",
        "for points in ask_num_points:\n",
        "  total_ask_num_points += points"
      ],
      "metadata": {
        "id": "9D5o_wcXwqSb"
      },
      "execution_count": 31,
      "outputs": []
    },
    {
      "cell_type": "code",
      "source": [
        "total_ask_num_points"
      ],
      "metadata": {
        "id": "O0HZ79z8wuWS",
        "colab": {
          "base_uri": "https://localhost:8080/"
        },
        "outputId": "ff125a4c-2887-4028-99c2-51bf441a0e3f"
      },
      "execution_count": 32,
      "outputs": [
        {
          "output_type": "execute_result",
          "data": {
            "text/plain": [
              "18252"
            ]
          },
          "metadata": {},
          "execution_count": 32
        }
      ]
    },
    {
      "cell_type": "code",
      "source": [
        "avg_ask_points = total_ask_num_points/len(ask_posts)\n",
        "avg_ask_points"
      ],
      "metadata": {
        "id": "YooL5y1QwvpT",
        "colab": {
          "base_uri": "https://localhost:8080/"
        },
        "outputId": "4d9a16b6-b9d6-425f-da7c-d3b4e826e663"
      },
      "execution_count": 33,
      "outputs": [
        {
          "output_type": "execute_result",
          "data": {
            "text/plain": [
              "15.312080536912752"
            ]
          },
          "metadata": {},
          "execution_count": 33
        }
      ]
    },
    {
      "cell_type": "code",
      "source": [
        "# Comparison\n",
        "if avg_ask_points > avg_show_points:\n",
        "    print(\"Ask posts receive more points on average.\")\n",
        "elif avg_ask_points < avg_show_points:\n",
        "    print(\"Show posts receive more points on average.\")\n",
        "else:\n",
        "    print(\"Both ask and show posts receive the same average number of points.\")"
      ],
      "metadata": {
        "id": "Gih3bosRw7vw",
        "colab": {
          "base_uri": "https://localhost:8080/"
        },
        "outputId": "0a3efa1b-89b5-4c9b-d27d-df6bb0decd34"
      },
      "execution_count": 34,
      "outputs": [
        {
          "output_type": "stream",
          "name": "stdout",
          "text": [
            "Show posts receive more points on average.\n"
          ]
        }
      ]
    },
    {
      "cell_type": "markdown",
      "source": [
        "**Determine if posts created at a certain time are more likely to receive more points.**"
      ],
      "metadata": {
        "id": "Rm4FfuzcxVvU"
      }
    },
    {
      "cell_type": "markdown",
      "source": [
        "Show posts Analysis"
      ],
      "metadata": {
        "id": "OwyjTYHvxliu"
      }
    },
    {
      "cell_type": "code",
      "source": [
        "test_list = []\n",
        "\n",
        "for row in show_posts:\n",
        "  num_points = int(row[3])\n",
        "  created_at = row[6]\n",
        "  test_list.append([created_at, num_points])"
      ],
      "metadata": {
        "id": "0O2ukRSDxYMg"
      },
      "execution_count": 35,
      "outputs": []
    },
    {
      "cell_type": "code",
      "source": [
        "count_by_hour = {}\n",
        "point_by_hour = {}\n",
        "\n",
        "for row in test_list:\n",
        "    created_at = dt.datetime.strptime(row[0], \"%m/%d/%Y %H:%M\")\n",
        "    hour = created_at.strftime(\"%H\")\n",
        "\n",
        "    if hour not in count_by_hour:\n",
        "        count_by_hour[hour] = 1\n",
        "        point_by_hour[hour] = row[1]\n",
        "    else:\n",
        "        count_by_hour[hour] += 1\n",
        "        point_by_hour[hour] += row[1]"
      ],
      "metadata": {
        "id": "Q-hbEV5vyQJk"
      },
      "execution_count": 36,
      "outputs": []
    },
    {
      "cell_type": "code",
      "source": [
        "avg_by_hour = []\n",
        "\n",
        "for avg in point_by_hour:\n",
        "  avg_by_hour.append([avg, point_by_hour[avg]/count_by_hour[avg]])"
      ],
      "metadata": {
        "id": "K_W6QtMP2pll"
      },
      "execution_count": 37,
      "outputs": []
    },
    {
      "cell_type": "code",
      "source": [
        "avg_by_hour"
      ],
      "metadata": {
        "id": "tuccJixw51Jw",
        "colab": {
          "base_uri": "https://localhost:8080/"
        },
        "outputId": "073fd0d9-83d6-49ca-f62c-b8f278783713"
      },
      "execution_count": 38,
      "outputs": [
        {
          "output_type": "execute_result",
          "data": {
            "text/plain": [
              "[['14', 17.32758620689655],\n",
              " ['22', 52.93103448275862],\n",
              " ['18', 24.857142857142858],\n",
              " ['07', 28.833333333333332],\n",
              " ['20', 12.324324324324325],\n",
              " ['05', 4.7272727272727275],\n",
              " ['16', 29.566037735849058],\n",
              " ['19', 35.86046511627907],\n",
              " ['15', 29.962962962962962],\n",
              " ['03', 22.272727272727273],\n",
              " ['17', 22.06451612903226],\n",
              " ['06', 10.0],\n",
              " ['02', 13.285714285714286],\n",
              " ['13', 27.582089552238806],\n",
              " ['08', 17.307692307692307],\n",
              " ['21', 14.78125],\n",
              " ['04', 14.571428571428571],\n",
              " ['11', 28.70967741935484],\n",
              " ['12', 43.26190476190476],\n",
              " ['23', 35.083333333333336],\n",
              " ['09', 20.923076923076923],\n",
              " ['01', 18.61111111111111],\n",
              " ['10', 14.037037037037036],\n",
              " ['00', 44.05882352941177]]"
            ]
          },
          "metadata": {},
          "execution_count": 38
        }
      ]
    },
    {
      "cell_type": "code",
      "source": [
        "# Create a list with columns swapped\n",
        "swap_avg_by_hour = [[row[1], row[0]] for row in avg_by_hour]\n",
        "\n",
        "# Sort the list by the average number of comments in descending order\n",
        "sorted_swap = sorted(swap_avg_by_hour, reverse=True)\n",
        "\n",
        "# Print the results\n",
        "print(\"Top 5 Hours for Ask Posts Comments\")\n",
        "for avg, hour in sorted_swap[:5]:\n",
        "    print(\"{}: {:.2f} average comments per post\".format(hour, avg))\n"
      ],
      "metadata": {
        "id": "hI8i6zZM5S4E",
        "colab": {
          "base_uri": "https://localhost:8080/"
        },
        "outputId": "ea336ce6-ec40-4a8e-cf51-c799e55d4351"
      },
      "execution_count": 39,
      "outputs": [
        {
          "output_type": "stream",
          "name": "stdout",
          "text": [
            "Top 5 Hours for Ask Posts Comments\n",
            "22: 52.93 average comments per post\n",
            "00: 44.06 average comments per post\n",
            "12: 43.26 average comments per post\n",
            "19: 35.86 average comments per post\n",
            "23: 35.08 average comments per post\n"
          ]
        }
      ]
    }
  ]
}